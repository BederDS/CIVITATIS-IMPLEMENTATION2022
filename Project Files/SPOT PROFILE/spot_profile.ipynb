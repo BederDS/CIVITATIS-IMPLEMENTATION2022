{
 "cells": [
  {
   "cell_type": "code",
   "execution_count": 1,
   "metadata": {},
   "outputs": [
    {
     "name": "stderr",
     "output_type": "stream",
     "text": [
      "c:\\Users\\beder\\.conda\\envs\\ACTIMPLEMENTATION2022\\lib\\site-packages\\thefuzz\\fuzz.py:11: UserWarning: Using slow pure-python SequenceMatcher. Install python-Levenshtein to remove this warning\n",
      "  warnings.warn('Using slow pure-python SequenceMatcher. Install python-Levenshtein to remove this warning')\n"
     ]
    }
   ],
   "source": [
    "import numpy as np\n",
    "import pandas as pd\n",
    "import pandas.io.sql as sql\n",
    "import pymysql\n",
    "import thefuzz\n",
    "import xlwt\n",
    "import sqlalchemy\n",
    "import time\n",
    "\n",
    "import requests\n",
    "import json\n",
    "import re\n",
    "import geopandas\n",
    "\n",
    "from requests.auth import HTTPBasicAuth\n",
    "from shapely.geometry import Point\n",
    "from thefuzz import fuzz\n",
    "from thefuzz import process\n",
    "from sqlalchemy import create_engine\n",
    "from pymysql import*\n",
    "from IPython.display import clear_output"
   ]
  },
  {
   "cell_type": "code",
   "execution_count": 147,
   "metadata": {},
   "outputs": [],
   "source": [
    "all_activities= pd.read_csv('C:\\\\Users\\\\beder\\Desktop\\Data 2022\\Projects\\Activities Implementation\\Outputs\\Civitatis Exctraction\\\\all_activities27_07_2022.csv')"
   ]
  },
  {
   "cell_type": "code",
   "execution_count": 148,
   "metadata": {},
   "outputs": [
    {
     "name": "stderr",
     "output_type": "stream",
     "text": [
      "c:\\Users\\beder\\.conda\\envs\\ACTIMPLEMENTATION2022\\lib\\site-packages\\pandas\\core\\dtypes\\cast.py:122: ShapelyDeprecationWarning: The array interface is deprecated and will no longer work in Shapely 2.0. Convert the '.coords' to a numpy array instead.\n",
      "  arr = construct_1d_object_array_from_listlike(values)\n"
     ]
    }
   ],
   "source": [
    "all_activities['geometry'] = all_activities.apply(lambda x: Point((float(x.longitude), float(x.latitude))), axis=1)"
   ]
  },
  {
   "cell_type": "code",
   "execution_count": 149,
   "metadata": {},
   "outputs": [],
   "source": [
    "all_activities = geopandas.GeoDataFrame(all_activities, geometry='geometry')"
   ]
  }
 ],
 "metadata": {
  "kernelspec": {
   "display_name": "Python 3.9.12 ('ACTIMPLEMENTATION2022')",
   "language": "python",
   "name": "python3"
  },
  "language_info": {
   "codemirror_mode": {
    "name": "ipython",
    "version": 3
   },
   "file_extension": ".py",
   "mimetype": "text/x-python",
   "name": "python",
   "nbconvert_exporter": "python",
   "pygments_lexer": "ipython3",
   "version": "3.9.12"
  },
  "orig_nbformat": 4,
  "vscode": {
   "interpreter": {
    "hash": "476a6df08aa31c0b471f90717f5322e98b64a396c9ee6ff6ede77dec7db2a9a5"
   }
  }
 },
 "nbformat": 4,
 "nbformat_minor": 2
}
